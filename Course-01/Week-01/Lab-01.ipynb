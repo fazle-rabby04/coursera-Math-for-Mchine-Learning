{
 "cells": [
  {
   "cell_type": "code",
   "id": "initial_id",
   "metadata": {
    "collapsed": true,
    "ExecuteTime": {
     "end_time": "2024-10-19T07:59:17.083777Z",
     "start_time": "2024-10-19T07:59:17.081188Z"
    }
   },
   "source": [
    "test = \"Hello World\"\n",
    "print(test)"
   ],
   "outputs": [
    {
     "name": "stdout",
     "output_type": "stream",
     "text": [
      "Hello World\n"
     ]
    }
   ],
   "execution_count": 1
  },
  {
   "metadata": {
    "ExecuteTime": {
     "end_time": "2024-10-19T08:00:09.641778Z",
     "start_time": "2024-10-19T08:00:09.638622Z"
    }
   },
   "cell_type": "code",
   "source": [
    "import numpy as np \n",
    "one_dim_array = np.array([1, 2, 3])\n",
    "print(one_dim_array)"
   ],
   "id": "4b3841db4bcf1f9d",
   "outputs": [
    {
     "name": "stdout",
     "output_type": "stream",
     "text": [
      "[1 2 3]\n"
     ]
    }
   ],
   "execution_count": 3
  },
  {
   "metadata": {
    "ExecuteTime": {
     "end_time": "2024-10-19T08:01:51.579649Z",
     "start_time": "2024-10-19T08:01:51.573640Z"
    }
   },
   "cell_type": "code",
   "source": [
    "a=np.array([1, 2, 3])\n",
    "print(a)\n",
    "b= np.arange(1, 20,3)\n",
    "print(b)\n"
   ],
   "id": "ecbe4ab98e95afd3",
   "outputs": [
    {
     "name": "stdout",
     "output_type": "stream",
     "text": [
      "[1 2 3]\n",
      "[ 1  4  7 10 13 16 19]\n"
     ]
    }
   ],
   "execution_count": 4
  },
  {
   "metadata": {
    "ExecuteTime": {
     "end_time": "2024-10-19T08:05:21.999888Z",
     "start_time": "2024-10-19T08:05:21.994642Z"
    }
   },
   "cell_type": "code",
   "source": [
    "lin_space = np.linspace(1, 100, 5)\n",
    "print(lin_space)\n",
    "lin_space_int=np.linspace(1, 20, 5,dtype=int)\n",
    "print(lin_space_int)\n",
    "b_float= np.arange(1, 20,2,dtype=float)\n",
    "print(b_float)"
   ],
   "id": "3fb123940467a91e",
   "outputs": [
    {
     "name": "stdout",
     "output_type": "stream",
     "text": [
      "[  1.    25.75  50.5   75.25 100.  ]\n",
      "[ 1  5 10 15 20]\n",
      "[ 1.  3.  5.  7.  9. 11. 13. 15. 17. 19.]\n"
     ]
    }
   ],
   "execution_count": 5
  },
  {
   "metadata": {
    "ExecuteTime": {
     "end_time": "2024-10-19T08:06:15.331048Z",
     "start_time": "2024-10-19T08:06:15.326364Z"
    }
   },
   "cell_type": "code",
   "source": "rand_arr=np.random.randint(1,10,(5,5))",
   "id": "f5c1c74f4dce5b64",
   "outputs": [],
   "execution_count": 6
  },
  {
   "metadata": {
    "ExecuteTime": {
     "end_time": "2024-10-19T08:06:21.417964Z",
     "start_time": "2024-10-19T08:06:21.414822Z"
    }
   },
   "cell_type": "code",
   "source": "print(rand_arr)",
   "id": "6a89027fb480ba0a",
   "outputs": [
    {
     "name": "stdout",
     "output_type": "stream",
     "text": [
      "[[2 5 5 8 6]\n",
      " [1 2 6 4 8]\n",
      " [8 7 3 8 4]\n",
      " [2 5 2 3 1]\n",
      " [3 7 3 6 1]]\n"
     ]
    }
   ],
   "execution_count": 7
  },
  {
   "metadata": {
    "ExecuteTime": {
     "end_time": "2024-10-19T08:06:47.460002Z",
     "start_time": "2024-10-19T08:06:47.457663Z"
    }
   },
   "cell_type": "code",
   "source": [
    "rand_arr2=np.random.rand(5,5)\n",
    "print(rand_arr2)"
   ],
   "id": "281798bb93693159",
   "outputs": [
    {
     "name": "stdout",
     "output_type": "stream",
     "text": [
      "[[0.93322637 0.63127771 0.97505726 0.21694409 0.77205623]\n",
      " [0.11284897 0.04252603 0.04651981 0.06679359 0.28519839]\n",
      " [0.36220728 0.92521005 0.38927917 0.16127786 0.01453752]\n",
      " [0.1661135  0.20713096 0.92687889 0.84902464 0.06057952]\n",
      " [0.38418612 0.55786382 0.37526817 0.97855141 0.45098345]]\n"
     ]
    }
   ],
   "execution_count": 8
  },
  {
   "metadata": {
    "ExecuteTime": {
     "end_time": "2024-10-19T08:08:06.074518Z",
     "start_time": "2024-10-19T08:08:06.068078Z"
    }
   },
   "cell_type": "code",
   "source": "rand_arr3=np.random.randint(1,10)",
   "id": "701298f722d044f5",
   "outputs": [],
   "execution_count": 9
  },
  {
   "metadata": {
    "ExecuteTime": {
     "end_time": "2024-10-19T08:08:12.479330Z",
     "start_time": "2024-10-19T08:08:12.475343Z"
    }
   },
   "cell_type": "code",
   "source": "print(rand_arr3)",
   "id": "4b44071fb824ad09",
   "outputs": [
    {
     "name": "stdout",
     "output_type": "stream",
     "text": [
      "5\n"
     ]
    }
   ],
   "execution_count": 10
  },
  {
   "metadata": {
    "ExecuteTime": {
     "end_time": "2024-10-19T08:09:16.175341Z",
     "start_time": "2024-10-19T08:09:16.172016Z"
    }
   },
   "cell_type": "code",
   "source": [
    "# Generate an array of 10 random integers between 1 and 9 (inclusive)\n",
    "rand_arr3 = np.random.randint(1, 10, size=10)\n",
    "\n",
    "# Print the array\n",
    "print(rand_arr3)"
   ],
   "id": "77ddc3d1777bb6a7",
   "outputs": [
    {
     "name": "stdout",
     "output_type": "stream",
     "text": [
      "[2 5 1 9 8 4 8 8 1 3]\n"
     ]
    }
   ],
   "execution_count": 11
  },
  {
   "metadata": {
    "ExecuteTime": {
     "end_time": "2024-10-19T08:10:43.233607Z",
     "start_time": "2024-10-19T08:10:43.223210Z"
    }
   },
   "cell_type": "code",
   "source": [
    "one_dim_array = np.array([1, 2, 3,4,5,6,7,8,9])\n",
    "multi_dim_arr=np.reshape(one_dim_array,(3,3))\n",
    "print(multi_dim_arr)"
   ],
   "id": "109e0c96385f41fd",
   "outputs": [
    {
     "name": "stdout",
     "output_type": "stream",
     "text": [
      "[[1 2 3]\n",
      " [4 5 6]\n",
      " [7 8 9]]\n"
     ]
    }
   ],
   "execution_count": 12
  },
  {
   "metadata": {
    "ExecuteTime": {
     "end_time": "2024-10-19T08:12:29.793658Z",
     "start_time": "2024-10-19T08:12:29.790660Z"
    }
   },
   "cell_type": "code",
   "source": "vector=np.array([1,2,3,4,5,6,7,8,9])",
   "id": "cd6bb83addbfc7af",
   "outputs": [],
   "execution_count": 14
  },
  {
   "metadata": {
    "ExecuteTime": {
     "end_time": "2024-10-19T08:12:40.562521Z",
     "start_time": "2024-10-19T08:12:40.555854Z"
    }
   },
   "cell_type": "code",
   "source": "vector *10",
   "id": "7fbbc240e5d3bfe2",
   "outputs": [
    {
     "data": {
      "text/plain": [
       "array([10, 20, 30, 40, 50, 60, 70, 80, 90])"
      ]
     },
     "execution_count": 15,
     "metadata": {},
     "output_type": "execute_result"
    }
   ],
   "execution_count": 15
  },
  {
   "metadata": {
    "ExecuteTime": {
     "end_time": "2024-10-19T08:16:54.744393Z",
     "start_time": "2024-10-19T08:16:54.738187Z"
    }
   },
   "cell_type": "code",
   "source": [
    "a1=np.array([[1,2],\n",
    "            [3,4]])\n",
    "a2=np.array([[5,6],[7,8]])\n",
    "vert_stack= np.vstack((a1,a2))\n",
    "print(vert_stack)\n",
    "horz_stack= np.hstack((a1,a2))\n",
    "print(horz_stack)"
   ],
   "id": "a6034236c182be51",
   "outputs": [
    {
     "name": "stdout",
     "output_type": "stream",
     "text": [
      "[[1 2]\n",
      " [3 4]\n",
      " [5 6]\n",
      " [7 8]]\n",
      "[[1 2 5 6]\n",
      " [3 4 7 8]]\n"
     ]
    }
   ],
   "execution_count": 16
  },
  {
   "metadata": {},
   "cell_type": "code",
   "outputs": [],
   "execution_count": null,
   "source": "",
   "id": "c4b6cd437a02021b"
  }
 ],
 "metadata": {
  "kernelspec": {
   "display_name": "Python 3",
   "language": "python",
   "name": "python3"
  },
  "language_info": {
   "codemirror_mode": {
    "name": "ipython",
    "version": 2
   },
   "file_extension": ".py",
   "mimetype": "text/x-python",
   "name": "python",
   "nbconvert_exporter": "python",
   "pygments_lexer": "ipython2",
   "version": "2.7.6"
  }
 },
 "nbformat": 4,
 "nbformat_minor": 5
}
